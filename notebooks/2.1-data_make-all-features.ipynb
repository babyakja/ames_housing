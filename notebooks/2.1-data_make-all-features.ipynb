{
 "cells": [
  {
   "cell_type": "markdown",
   "metadata": {},
   "source": [
    "# Make Features"
   ]
  },
  {
   "cell_type": "markdown",
   "metadata": {},
   "source": [
    "This notebook makes all the features for both the train and test datasets."
   ]
  },
  {
   "cell_type": "code",
   "execution_count": 1,
   "metadata": {},
   "outputs": [],
   "source": [
    "# Libraries\n",
    "import pandas as pd\n",
    "import seaborn as sns\n",
    "import matplotlib.pyplot as plt\n",
    "import numpy as np\n",
    "\n",
    "# Preprocessing\n",
    "from sklearn.preprocessing import StandardScaler, PolynomialFeatures"
   ]
  },
  {
   "cell_type": "markdown",
   "metadata": {},
   "source": [
    "## 0.0 Get Data"
   ]
  },
  {
   "cell_type": "code",
   "execution_count": 2,
   "metadata": {},
   "outputs": [],
   "source": [
    "# Get data\n",
    "df_test = pd.read_csv('../data/interim/test_cleaned.csv',index_col=False)\n",
    "df_train = pd.read_csv('../data/interim/train_cleaned.csv',index_col=False)"
   ]
  },
  {
   "cell_type": "markdown",
   "metadata": {},
   "source": [
    "## 1.0 Transformations"
   ]
  },
  {
   "cell_type": "code",
   "execution_count": 3,
   "metadata": {},
   "outputs": [],
   "source": [
    "# Function to make Panda Series covert into log scale\n",
    "def feature_log(df,col):\n",
    "    df['Log'+col] = np.log1p(df[col])\n",
    "    return df"
   ]
  },
  {
   "cell_type": "code",
   "execution_count": 4,
   "metadata": {},
   "outputs": [],
   "source": [
    "df_train = feature_log(df_train,'SalePrice')\n",
    "df_train = feature_log(df_train,'Gr Liv Area')\n",
    "df_test = feature_log(df_test,'Gr Liv Area')\n"
   ]
  },
  {
   "cell_type": "markdown",
   "metadata": {},
   "source": [
    "### 1.1 Datatypes"
   ]
  },
  {
   "cell_type": "code",
   "execution_count": 5,
   "metadata": {},
   "outputs": [],
   "source": [
    "df_train['MS SubClass'] = df_train['MS SubClass'].apply(lambda x: str(x))\n",
    "df_test['MS SubClass'] = df_test['MS SubClass'].apply(lambda x: str(x))"
   ]
  },
  {
   "cell_type": "markdown",
   "metadata": {},
   "source": [
    "## 2.0 Outliers"
   ]
  },
  {
   "cell_type": "code",
   "execution_count": 6,
   "metadata": {},
   "outputs": [],
   "source": [
    "df_train = df_train[(df_train['Gr Liv Area'] < 4000) & (df_train['LogSalePrice'] > 10)]"
   ]
  },
  {
   "cell_type": "markdown",
   "metadata": {},
   "source": [
    "## 3.0 Categorical"
   ]
  },
  {
   "cell_type": "markdown",
   "metadata": {},
   "source": [
    "### 3.1 Ordinal"
   ]
  },
  {
   "cell_type": "code",
   "execution_count": 7,
   "metadata": {},
   "outputs": [],
   "source": [
    "''' \n",
    "Input: Pass in a custom ordered dictionary and the column names you want to apply to the dateframe.\n",
    "Output: Trasformed dataframe\n",
    "'''\n",
    "def feature_ordinal_custom(ordered_dict,column_list,df):\n",
    "    for col in column_list:\n",
    "        df[col] = df[col].map(ordered_dict)\n",
    "    return df"
   ]
  },
  {
   "cell_type": "code",
   "execution_count": 8,
   "metadata": {},
   "outputs": [],
   "source": [
    "# Make order numeric values for quality\n",
    "ordered_rating_qual = { \"None\": 0, \"Po\": 1, \"Fa\": 2, \"TA\": 3, \"Gd\": 4, \"Ex\": 5}\n",
    "\n",
    "# Not all of them but only a select few columns I want to convert\n",
    "qual_list = ['Exter Qual',\n",
    "             'Exter Cond',\n",
    "             'Bsmt Qual',\n",
    "             'Kitchen Qual',\n",
    "             'Fireplace Qu',\n",
    "             'Garage Qual'\n",
    "            ]\n",
    "# Apply to dataframes\n",
    "df_train = feature_ordinal_custom(ordered_rating_qual,qual_list,df_train)\n",
    "df_test = feature_ordinal_custom(ordered_rating_qual,qual_list,df_test)"
   ]
  },
  {
   "cell_type": "markdown",
   "metadata": {},
   "source": [
    "### 3.2 Dummies"
   ]
  },
  {
   "cell_type": "code",
   "execution_count": 9,
   "metadata": {},
   "outputs": [],
   "source": [
    "'''\n",
    "Input: Dataframe and list of columns to apply dummy\n",
    "Output: \n",
    "'''\n",
    "def feature_make_dummies(df,dummy_list):\n",
    "    # Create dummies on dataset\n",
    "    for col in dummy_list:\n",
    "        dummy = pd.get_dummies(df[col], columns=col, prefix=col)\n",
    "        df = pd.concat([df, dummy], axis=1)\n",
    "    return df\n"
   ]
  },
  {
   "cell_type": "code",
   "execution_count": 10,
   "metadata": {},
   "outputs": [],
   "source": [
    "#Setup dummies on short list, doing all will not be helpful\n",
    "dummy_list = ['MS Zoning',\n",
    "              'MS SubClass',\n",
    "              'Neighborhood',\n",
    "              'Bldg Type',\n",
    "              'House Style',\n",
    "              'Roof Style',\n",
    "              'Exterior 1st',\n",
    "              'Exterior 2nd',\n",
    "              'Foundation',\n",
    "              'Functional',\n",
    "              'Garage Type',\n",
    "              'Garage Finish',\n",
    "              'Paved Drive']"
   ]
  },
  {
   "cell_type": "code",
   "execution_count": 11,
   "metadata": {},
   "outputs": [],
   "source": [
    "# We know that doing get dummies on the test set will short change us on the columns so lets prep for that\n",
    "# DNR AGAIN\n",
    "for col in dummy_list:\n",
    "    df_test[col] = df_test[col].fillna(\"None\")\n",
    "    test_values = sorted(list(df_test[col].unique()))\n",
    "    train_values = sorted(list(df_train[col].unique()))\n",
    "    categories = set(train_values + test_values)\n",
    "    df_test[col] = pd.Categorical(df_test[col], categories=categories)\n",
    "    df_train[col] = pd.Categorical(df_train[col], categories=categories)"
   ]
  },
  {
   "cell_type": "code",
   "execution_count": 12,
   "metadata": {},
   "outputs": [],
   "source": [
    "df_train = feature_make_dummies(df_train,dummy_list)\n",
    "df_test = feature_make_dummies(df_test,dummy_list)"
   ]
  },
  {
   "cell_type": "code",
   "execution_count": 13,
   "metadata": {},
   "outputs": [
    {
     "name": "stdout",
     "output_type": "stream",
     "text": [
      "(2045, 213)\n",
      "(879, 213)\n"
     ]
    }
   ],
   "source": [
    "print(df_train.shape)\n",
    "print(df_test.shape)"
   ]
  },
  {
   "cell_type": "markdown",
   "metadata": {},
   "source": [
    "## 4.0 Feature Engineering"
   ]
  },
  {
   "cell_type": "markdown",
   "metadata": {},
   "source": [
    "### 4.1 Age of Remodel"
   ]
  },
  {
   "cell_type": "code",
   "execution_count": 14,
   "metadata": {},
   "outputs": [],
   "source": [
    "df_train['Age of Remodel'] = df_train['Yr Sold']-df_train['Year Remod/Add']\n",
    "df_test['Age of Remodel'] = df_test['Yr Sold']-df_test['Year Remod/Add']"
   ]
  },
  {
   "cell_type": "markdown",
   "metadata": {},
   "source": [
    "### 4.2 Total Baths"
   ]
  },
  {
   "cell_type": "code",
   "execution_count": 15,
   "metadata": {},
   "outputs": [],
   "source": [
    "df_train['Total Bath'] = df_train['Full Bath'] + df_train['Bsmt Full Bath'] + (df_train['Half Bath'] + df_train['Bsmt Half Bath'])/2\n",
    "df_test['Total Bath'] = df_test['Full Bath'] + df_test['Bsmt Full Bath'] + (df_test['Half Bath'] + df_test['Bsmt Half Bath'])/2"
   ]
  },
  {
   "cell_type": "markdown",
   "metadata": {},
   "source": [
    "### 4.3 Polynomial Features"
   ]
  },
  {
   "cell_type": "code",
   "execution_count": null,
   "metadata": {},
   "outputs": [],
   "source": []
  },
  {
   "cell_type": "markdown",
   "metadata": {},
   "source": [
    "### 4.4 Total Quality"
   ]
  },
  {
   "cell_type": "code",
   "execution_count": 16,
   "metadata": {},
   "outputs": [],
   "source": [
    "df_train['Sum Qual'] = df_train['Exter Qual'] + df_train['Bsmt Qual'] + df_train['Kitchen Qual'] + df_train['Fireplace Qu'] + df_train['Garage Qual']\n",
    "df_test['Sum Qual'] = df_test['Exter Qual'] + df_test['Bsmt Qual'] + df_test['Kitchen Qual'] + df_test['Fireplace Qu'] + df_test['Garage Qual']"
   ]
  },
  {
   "cell_type": "markdown",
   "metadata": {},
   "source": [
    "## 5.0 Preprocessing"
   ]
  },
  {
   "cell_type": "code",
   "execution_count": 17,
   "metadata": {},
   "outputs": [],
   "source": [
    "# Create matrices\n",
    "num_columns = list(df_train._get_numeric_data().drop(['SalePrice', 'LogSalePrice'], axis=1).columns)\n",
    "cat_columns = list(df_train.select_dtypes(include=['object']).columns)"
   ]
  },
  {
   "cell_type": "code",
   "execution_count": 18,
   "metadata": {},
   "outputs": [],
   "source": [
    "for feature in num_columns:\n",
    "    df_test[feature] = df_test[feature].fillna(0)"
   ]
  },
  {
   "cell_type": "code",
   "execution_count": 29,
   "metadata": {},
   "outputs": [],
   "source": [
    "# Scale the data\n",
    "ss = StandardScaler() # Instantiate Standard Scaler\n",
    "df_train[num_columns] = ss.fit_transform(df_train[num_columns]) \n",
    "df_test[num_columns] = ss.fit_transform(df_test[num_columns])"
   ]
  },
  {
   "cell_type": "code",
   "execution_count": 30,
   "metadata": {},
   "outputs": [
    {
     "data": {
      "text/html": [
       "<div>\n",
       "<style scoped>\n",
       "    .dataframe tbody tr th:only-of-type {\n",
       "        vertical-align: middle;\n",
       "    }\n",
       "\n",
       "    .dataframe tbody tr th {\n",
       "        vertical-align: top;\n",
       "    }\n",
       "\n",
       "    .dataframe thead th {\n",
       "        text-align: right;\n",
       "    }\n",
       "</style>\n",
       "<table border=\"1\" class=\"dataframe\">\n",
       "  <thead>\n",
       "    <tr style=\"text-align: right;\">\n",
       "      <th></th>\n",
       "      <th>Unnamed: 0</th>\n",
       "      <th>MS SubClass</th>\n",
       "      <th>MS Zoning</th>\n",
       "      <th>Lot Frontage</th>\n",
       "      <th>Lot Area</th>\n",
       "      <th>Street</th>\n",
       "      <th>Alley</th>\n",
       "      <th>Lot Shape</th>\n",
       "      <th>Land Contour</th>\n",
       "      <th>Utilities</th>\n",
       "      <th>...</th>\n",
       "      <th>Garage Finish_Unf</th>\n",
       "      <th>Garage Finish_None</th>\n",
       "      <th>Garage Finish_Fin</th>\n",
       "      <th>Garage Finish_RFn</th>\n",
       "      <th>Paved Drive_N</th>\n",
       "      <th>Paved Drive_P</th>\n",
       "      <th>Paved Drive_Y</th>\n",
       "      <th>Age of Remodel</th>\n",
       "      <th>Total Bath</th>\n",
       "      <th>Sum Qual</th>\n",
       "    </tr>\n",
       "  </thead>\n",
       "  <tbody>\n",
       "    <tr>\n",
       "      <th>0</th>\n",
       "      <td>-1.730802</td>\n",
       "      <td>60</td>\n",
       "      <td>RL</td>\n",
       "      <td>0.011267</td>\n",
       "      <td>0.535035</td>\n",
       "      <td>Pave</td>\n",
       "      <td>None</td>\n",
       "      <td>IR1</td>\n",
       "      <td>Lvl</td>\n",
       "      <td>AllPub</td>\n",
       "      <td>...</td>\n",
       "      <td>-0.839146</td>\n",
       "      <td>-0.242975</td>\n",
       "      <td>-0.574151</td>\n",
       "      <td>1.591211</td>\n",
       "      <td>-0.280333</td>\n",
       "      <td>-0.139433</td>\n",
       "      <td>0.318180</td>\n",
       "      <td>-0.884420</td>\n",
       "      <td>0.347332</td>\n",
       "      <td>-0.295543</td>\n",
       "    </tr>\n",
       "    <tr>\n",
       "      <th>1</th>\n",
       "      <td>-1.729113</td>\n",
       "      <td>60</td>\n",
       "      <td>RL</td>\n",
       "      <td>-1.258784</td>\n",
       "      <td>0.226401</td>\n",
       "      <td>Pave</td>\n",
       "      <td>None</td>\n",
       "      <td>IR1</td>\n",
       "      <td>Lvl</td>\n",
       "      <td>AllPub</td>\n",
       "      <td>...</td>\n",
       "      <td>-0.839146</td>\n",
       "      <td>-0.242975</td>\n",
       "      <td>-0.574151</td>\n",
       "      <td>1.591211</td>\n",
       "      <td>-0.280333</td>\n",
       "      <td>-0.139433</td>\n",
       "      <td>0.318180</td>\n",
       "      <td>-0.551118</td>\n",
       "      <td>1.591280</td>\n",
       "      <td>0.909612</td>\n",
       "    </tr>\n",
       "    <tr>\n",
       "      <th>2</th>\n",
       "      <td>-1.727424</td>\n",
       "      <td>20</td>\n",
       "      <td>RL</td>\n",
       "      <td>-0.042260</td>\n",
       "      <td>-0.317709</td>\n",
       "      <td>Pave</td>\n",
       "      <td>None</td>\n",
       "      <td>Reg</td>\n",
       "      <td>Lvl</td>\n",
       "      <td>AllPub</td>\n",
       "      <td>...</td>\n",
       "      <td>1.191687</td>\n",
       "      <td>-0.242975</td>\n",
       "      <td>-0.574151</td>\n",
       "      <td>-0.628452</td>\n",
       "      <td>-0.280333</td>\n",
       "      <td>-0.139433</td>\n",
       "      <td>0.318180</td>\n",
       "      <td>-0.979649</td>\n",
       "      <td>-0.274642</td>\n",
       "      <td>-0.596832</td>\n",
       "    </tr>\n",
       "    <tr>\n",
       "      <th>3</th>\n",
       "      <td>-1.725735</td>\n",
       "      <td>60</td>\n",
       "      <td>RL</td>\n",
       "      <td>0.201045</td>\n",
       "      <td>-0.031175</td>\n",
       "      <td>Pave</td>\n",
       "      <td>None</td>\n",
       "      <td>Reg</td>\n",
       "      <td>Lvl</td>\n",
       "      <td>AllPub</td>\n",
       "      <td>...</td>\n",
       "      <td>-0.839146</td>\n",
       "      <td>-0.242975</td>\n",
       "      <td>1.741703</td>\n",
       "      <td>-0.628452</td>\n",
       "      <td>-0.280333</td>\n",
       "      <td>-0.139433</td>\n",
       "      <td>0.318180</td>\n",
       "      <td>-0.979649</td>\n",
       "      <td>0.347332</td>\n",
       "      <td>-0.596832</td>\n",
       "    </tr>\n",
       "    <tr>\n",
       "      <th>4</th>\n",
       "      <td>-1.724046</td>\n",
       "      <td>50</td>\n",
       "      <td>RL</td>\n",
       "      <td>0.638994</td>\n",
       "      <td>0.644467</td>\n",
       "      <td>Pave</td>\n",
       "      <td>None</td>\n",
       "      <td>IR1</td>\n",
       "      <td>Lvl</td>\n",
       "      <td>AllPub</td>\n",
       "      <td>...</td>\n",
       "      <td>1.191687</td>\n",
       "      <td>-0.242975</td>\n",
       "      <td>-0.574151</td>\n",
       "      <td>-0.628452</td>\n",
       "      <td>3.567188</td>\n",
       "      <td>-0.139433</td>\n",
       "      <td>-3.142874</td>\n",
       "      <td>-0.313045</td>\n",
       "      <td>-0.274642</td>\n",
       "      <td>-1.199409</td>\n",
       "    </tr>\n",
       "  </tbody>\n",
       "</table>\n",
       "<p>5 rows × 216 columns</p>\n",
       "</div>"
      ],
      "text/plain": [
       "   Unnamed: 0 MS SubClass MS Zoning  Lot Frontage  Lot Area Street Alley  \\\n",
       "0   -1.730802          60        RL      0.011267  0.535035   Pave  None   \n",
       "1   -1.729113          60        RL     -1.258784  0.226401   Pave  None   \n",
       "2   -1.727424          20        RL     -0.042260 -0.317709   Pave  None   \n",
       "3   -1.725735          60        RL      0.201045 -0.031175   Pave  None   \n",
       "4   -1.724046          50        RL      0.638994  0.644467   Pave  None   \n",
       "\n",
       "  Lot Shape Land Contour Utilities    ...    Garage Finish_Unf  \\\n",
       "0       IR1          Lvl    AllPub    ...            -0.839146   \n",
       "1       IR1          Lvl    AllPub    ...            -0.839146   \n",
       "2       Reg          Lvl    AllPub    ...             1.191687   \n",
       "3       Reg          Lvl    AllPub    ...            -0.839146   \n",
       "4       IR1          Lvl    AllPub    ...             1.191687   \n",
       "\n",
       "  Garage Finish_None Garage Finish_Fin Garage Finish_RFn Paved Drive_N  \\\n",
       "0          -0.242975         -0.574151          1.591211     -0.280333   \n",
       "1          -0.242975         -0.574151          1.591211     -0.280333   \n",
       "2          -0.242975         -0.574151         -0.628452     -0.280333   \n",
       "3          -0.242975          1.741703         -0.628452     -0.280333   \n",
       "4          -0.242975         -0.574151         -0.628452      3.567188   \n",
       "\n",
       "  Paved Drive_P Paved Drive_Y  Age of Remodel  Total Bath  Sum Qual  \n",
       "0     -0.139433      0.318180       -0.884420    0.347332 -0.295543  \n",
       "1     -0.139433      0.318180       -0.551118    1.591280  0.909612  \n",
       "2     -0.139433      0.318180       -0.979649   -0.274642 -0.596832  \n",
       "3     -0.139433      0.318180       -0.979649    0.347332 -0.596832  \n",
       "4     -0.139433     -3.142874       -0.313045   -0.274642 -1.199409  \n",
       "\n",
       "[5 rows x 216 columns]"
      ]
     },
     "execution_count": 30,
     "metadata": {},
     "output_type": "execute_result"
    }
   ],
   "source": [
    "df_train.head()"
   ]
  },
  {
   "cell_type": "code",
   "execution_count": 31,
   "metadata": {},
   "outputs": [
    {
     "data": {
      "text/html": [
       "<div>\n",
       "<style scoped>\n",
       "    .dataframe tbody tr th:only-of-type {\n",
       "        vertical-align: middle;\n",
       "    }\n",
       "\n",
       "    .dataframe tbody tr th {\n",
       "        vertical-align: top;\n",
       "    }\n",
       "\n",
       "    .dataframe thead th {\n",
       "        text-align: right;\n",
       "    }\n",
       "</style>\n",
       "<table border=\"1\" class=\"dataframe\">\n",
       "  <thead>\n",
       "    <tr style=\"text-align: right;\">\n",
       "      <th></th>\n",
       "      <th>Unnamed: 0</th>\n",
       "      <th>Id</th>\n",
       "      <th>PID</th>\n",
       "      <th>MS SubClass</th>\n",
       "      <th>MS Zoning</th>\n",
       "      <th>Lot Frontage</th>\n",
       "      <th>Lot Area</th>\n",
       "      <th>Street</th>\n",
       "      <th>Alley</th>\n",
       "      <th>Lot Shape</th>\n",
       "      <th>...</th>\n",
       "      <th>Garage Finish_Unf</th>\n",
       "      <th>Garage Finish_None</th>\n",
       "      <th>Garage Finish_Fin</th>\n",
       "      <th>Garage Finish_RFn</th>\n",
       "      <th>Paved Drive_N</th>\n",
       "      <th>Paved Drive_P</th>\n",
       "      <th>Paved Drive_Y</th>\n",
       "      <th>Age of Remodel</th>\n",
       "      <th>Total Bath</th>\n",
       "      <th>Sum Qual</th>\n",
       "    </tr>\n",
       "  </thead>\n",
       "  <tbody>\n",
       "    <tr>\n",
       "      <th>0</th>\n",
       "      <td>-1.730081</td>\n",
       "      <td>2658</td>\n",
       "      <td>902301120</td>\n",
       "      <td>190</td>\n",
       "      <td>RM</td>\n",
       "      <td>-0.029251</td>\n",
       "      <td>-0.119395</td>\n",
       "      <td>Pave</td>\n",
       "      <td>Grvl</td>\n",
       "      <td>Reg</td>\n",
       "      <td>...</td>\n",
       "      <td>1.140635</td>\n",
       "      <td>-0.232286</td>\n",
       "      <td>-0.576037</td>\n",
       "      <td>-0.600567</td>\n",
       "      <td>-0.282582</td>\n",
       "      <td>-0.163918</td>\n",
       "      <td>0.333544</td>\n",
       "      <td>1.593181</td>\n",
       "      <td>-0.259157</td>\n",
       "      <td>-0.992884</td>\n",
       "    </tr>\n",
       "    <tr>\n",
       "      <th>1</th>\n",
       "      <td>-1.726140</td>\n",
       "      <td>2718</td>\n",
       "      <td>905108090</td>\n",
       "      <td>90</td>\n",
       "      <td>RL</td>\n",
       "      <td>-0.001151</td>\n",
       "      <td>-0.067611</td>\n",
       "      <td>Pave</td>\n",
       "      <td>NaN</td>\n",
       "      <td>IR1</td>\n",
       "      <td>...</td>\n",
       "      <td>-0.876705</td>\n",
       "      <td>-0.232286</td>\n",
       "      <td>1.736001</td>\n",
       "      <td>-0.600567</td>\n",
       "      <td>-0.282582</td>\n",
       "      <td>-0.163918</td>\n",
       "      <td>0.333544</td>\n",
       "      <td>0.274485</td>\n",
       "      <td>-0.259157</td>\n",
       "      <td>-0.992884</td>\n",
       "    </tr>\n",
       "    <tr>\n",
       "      <th>2</th>\n",
       "      <td>-1.722200</td>\n",
       "      <td>2414</td>\n",
       "      <td>528218130</td>\n",
       "      <td>60</td>\n",
       "      <td>RL</td>\n",
       "      <td>-0.544416</td>\n",
       "      <td>0.673505</td>\n",
       "      <td>Pave</td>\n",
       "      <td>NaN</td>\n",
       "      <td>IR1</td>\n",
       "      <td>...</td>\n",
       "      <td>-0.876705</td>\n",
       "      <td>-0.232286</td>\n",
       "      <td>-0.576037</td>\n",
       "      <td>1.665092</td>\n",
       "      <td>-0.282582</td>\n",
       "      <td>-0.163918</td>\n",
       "      <td>0.333544</td>\n",
       "      <td>-1.141892</td>\n",
       "      <td>1.597900</td>\n",
       "      <td>1.150067</td>\n",
       "    </tr>\n",
       "    <tr>\n",
       "      <th>3</th>\n",
       "      <td>-1.718259</td>\n",
       "      <td>1989</td>\n",
       "      <td>902207150</td>\n",
       "      <td>30</td>\n",
       "      <td>RM</td>\n",
       "      <td>-0.450749</td>\n",
       "      <td>-0.181337</td>\n",
       "      <td>Pave</td>\n",
       "      <td>NaN</td>\n",
       "      <td>Reg</td>\n",
       "      <td>...</td>\n",
       "      <td>1.140635</td>\n",
       "      <td>-0.232286</td>\n",
       "      <td>-0.576037</td>\n",
       "      <td>-0.600567</td>\n",
       "      <td>3.538796</td>\n",
       "      <td>-0.163918</td>\n",
       "      <td>-2.998105</td>\n",
       "      <td>-1.093051</td>\n",
       "      <td>-1.497195</td>\n",
       "      <td>-0.992884</td>\n",
       "    </tr>\n",
       "    <tr>\n",
       "      <th>4</th>\n",
       "      <td>-1.714318</td>\n",
       "      <td>625</td>\n",
       "      <td>535105100</td>\n",
       "      <td>20</td>\n",
       "      <td>RL</td>\n",
       "      <td>-0.001151</td>\n",
       "      <td>-0.083744</td>\n",
       "      <td>Pave</td>\n",
       "      <td>NaN</td>\n",
       "      <td>IR1</td>\n",
       "      <td>...</td>\n",
       "      <td>-0.876705</td>\n",
       "      <td>-0.232286</td>\n",
       "      <td>-0.576037</td>\n",
       "      <td>1.665092</td>\n",
       "      <td>-0.282582</td>\n",
       "      <td>-0.163918</td>\n",
       "      <td>0.333544</td>\n",
       "      <td>1.104775</td>\n",
       "      <td>0.359862</td>\n",
       "      <td>0.924493</td>\n",
       "    </tr>\n",
       "  </tbody>\n",
       "</table>\n",
       "<p>5 rows × 216 columns</p>\n",
       "</div>"
      ],
      "text/plain": [
       "   Unnamed: 0    Id        PID MS SubClass MS Zoning  Lot Frontage  Lot Area  \\\n",
       "0   -1.730081  2658  902301120         190        RM     -0.029251 -0.119395   \n",
       "1   -1.726140  2718  905108090          90        RL     -0.001151 -0.067611   \n",
       "2   -1.722200  2414  528218130          60        RL     -0.544416  0.673505   \n",
       "3   -1.718259  1989  902207150          30        RM     -0.450749 -0.181337   \n",
       "4   -1.714318   625  535105100          20        RL     -0.001151 -0.083744   \n",
       "\n",
       "  Street Alley Lot Shape    ...    Garage Finish_Unf Garage Finish_None  \\\n",
       "0   Pave  Grvl       Reg    ...             1.140635          -0.232286   \n",
       "1   Pave   NaN       IR1    ...            -0.876705          -0.232286   \n",
       "2   Pave   NaN       IR1    ...            -0.876705          -0.232286   \n",
       "3   Pave   NaN       Reg    ...             1.140635          -0.232286   \n",
       "4   Pave   NaN       IR1    ...            -0.876705          -0.232286   \n",
       "\n",
       "  Garage Finish_Fin Garage Finish_RFn Paved Drive_N Paved Drive_P  \\\n",
       "0         -0.576037         -0.600567     -0.282582     -0.163918   \n",
       "1          1.736001         -0.600567     -0.282582     -0.163918   \n",
       "2         -0.576037          1.665092     -0.282582     -0.163918   \n",
       "3         -0.576037         -0.600567      3.538796     -0.163918   \n",
       "4         -0.576037          1.665092     -0.282582     -0.163918   \n",
       "\n",
       "  Paved Drive_Y Age of Remodel Total Bath  Sum Qual  \n",
       "0      0.333544       1.593181  -0.259157 -0.992884  \n",
       "1      0.333544       0.274485  -0.259157 -0.992884  \n",
       "2      0.333544      -1.141892   1.597900  1.150067  \n",
       "3     -2.998105      -1.093051  -1.497195 -0.992884  \n",
       "4      0.333544       1.104775   0.359862  0.924493  \n",
       "\n",
       "[5 rows x 216 columns]"
      ]
     },
     "execution_count": 31,
     "metadata": {},
     "output_type": "execute_result"
    }
   ],
   "source": [
    "df_test.head()"
   ]
  },
  {
   "cell_type": "markdown",
   "metadata": {},
   "source": [
    "## Export Data"
   ]
  },
  {
   "cell_type": "code",
   "execution_count": 32,
   "metadata": {},
   "outputs": [],
   "source": [
    "df_test.to_csv('../data/processed/test_scaled.csv')\n",
    "df_train.to_csv('../data/processed/train_scaled.csv')"
   ]
  },
  {
   "cell_type": "code",
   "execution_count": null,
   "metadata": {},
   "outputs": [],
   "source": []
  }
 ],
 "metadata": {
  "kernelspec": {
   "display_name": "Python 3",
   "language": "python",
   "name": "python3"
  },
  "language_info": {
   "codemirror_mode": {
    "name": "ipython",
    "version": 3
   },
   "file_extension": ".py",
   "mimetype": "text/x-python",
   "name": "python",
   "nbconvert_exporter": "python",
   "pygments_lexer": "ipython3",
   "version": "3.6.5"
  }
 },
 "nbformat": 4,
 "nbformat_minor": 2
}
