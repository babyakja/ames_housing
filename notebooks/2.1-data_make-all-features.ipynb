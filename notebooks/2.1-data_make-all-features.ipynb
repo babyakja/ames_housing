{
 "cells": [
  {
   "cell_type": "markdown",
   "metadata": {},
   "source": [
    "# Make Features"
   ]
  },
  {
   "cell_type": "markdown",
   "metadata": {},
   "source": [
    "This notebook makes all the features for both the train and test datasets."
   ]
  },
  {
   "cell_type": "code",
   "execution_count": 5,
   "metadata": {},
   "outputs": [],
   "source": [
    "# Libraries\n",
    "import pandas as pd\n",
    "import seaborn as sns\n",
    "import matplotlib.pyplot as plt\n",
    "import numpy as np"
   ]
  },
  {
   "cell_type": "markdown",
   "metadata": {},
   "source": [
    "## 0.0 Get Data"
   ]
  },
  {
   "cell_type": "code",
   "execution_count": 6,
   "metadata": {},
   "outputs": [],
   "source": [
    "# Get data\n",
    "df_test = pd.read_csv(\"../data/interim/test_cleaned.csv\")\n",
    "df_train = pd.read_csv(\"../data/interim/train_cleaned.csv\")"
   ]
  },
  {
   "cell_type": "code",
   "execution_count": 7,
   "metadata": {},
   "outputs": [],
   "source": [
    "data_frame_list = [df_test, df_train]"
   ]
  },
  {
   "cell_type": "markdown",
   "metadata": {},
   "source": [
    "## 1.0 Transformations"
   ]
  },
  {
   "cell_type": "code",
   "execution_count": 8,
   "metadata": {},
   "outputs": [],
   "source": [
    "# Function to make Panda Series covert into log scale\n",
    "def feature_log(df,col):\n",
    "    df['Log'+col] = np.log1p(df[col])\n",
    "    return df"
   ]
  },
  {
   "cell_type": "code",
   "execution_count": 10,
   "metadata": {},
   "outputs": [],
   "source": [
    "df_train = feature_log(df_train,'SalePrice')\n",
    "df_train = feature_log(df_train,'Gr Liv Area')\n",
    "df_test = feature_log(df_test,'Gr Liv Area')\n"
   ]
  },
  {
   "cell_type": "markdown",
   "metadata": {},
   "source": [
    "### 1.1 Datatypes"
   ]
  },
  {
   "cell_type": "code",
   "execution_count": 24,
   "metadata": {},
   "outputs": [
    {
     "name": "stderr",
     "output_type": "stream",
     "text": [
      "/Users/macbookpro/anaconda3/lib/python3.6/site-packages/ipykernel_launcher.py:1: SettingWithCopyWarning: \n",
      "A value is trying to be set on a copy of a slice from a DataFrame.\n",
      "Try using .loc[row_indexer,col_indexer] = value instead\n",
      "\n",
      "See the caveats in the documentation: http://pandas.pydata.org/pandas-docs/stable/indexing.html#indexing-view-versus-copy\n",
      "  \"\"\"Entry point for launching an IPython kernel.\n"
     ]
    }
   ],
   "source": [
    "df_train['MS SubClass'] = df_train['MS SubClass'].apply(lambda x: str(x))\n",
    "df_test['MS SubClass'] = df_test['MS SubClass'].apply(lambda x: str(x))"
   ]
  },
  {
   "cell_type": "markdown",
   "metadata": {},
   "source": [
    "## 2.0 Outliers"
   ]
  },
  {
   "cell_type": "code",
   "execution_count": 12,
   "metadata": {},
   "outputs": [],
   "source": [
    "df_train = df_train[(df_train['Gr Liv Area'] < 4000) & (df_train['LogSalePrice'] > 10)]"
   ]
  },
  {
   "cell_type": "markdown",
   "metadata": {},
   "source": [
    "## 3.0 Categorical"
   ]
  },
  {
   "cell_type": "markdown",
   "metadata": {},
   "source": [
    "### 3.1 Ordinal"
   ]
  },
  {
   "cell_type": "code",
   "execution_count": 13,
   "metadata": {},
   "outputs": [],
   "source": [
    "''' \n",
    "Input: Pass in a custom ordered dictionary and the column names you want to apply to the dateframe.\n",
    "Output: Trasformed dataframe\n",
    "'''\n",
    "def feature_ordinal_custom(ordered_dict,column_list,df):\n",
    "    for col in column_list:\n",
    "        df[col] = df[col].map(ordered_dict)\n",
    "    return df"
   ]
  },
  {
   "cell_type": "code",
   "execution_count": 25,
   "metadata": {},
   "outputs": [
    {
     "name": "stderr",
     "output_type": "stream",
     "text": [
      "/Users/macbookpro/anaconda3/lib/python3.6/site-packages/ipykernel_launcher.py:7: SettingWithCopyWarning: \n",
      "A value is trying to be set on a copy of a slice from a DataFrame.\n",
      "Try using .loc[row_indexer,col_indexer] = value instead\n",
      "\n",
      "See the caveats in the documentation: http://pandas.pydata.org/pandas-docs/stable/indexing.html#indexing-view-versus-copy\n",
      "  import sys\n"
     ]
    }
   ],
   "source": [
    "# Make order numeric values for quality\n",
    "ordered_rating_qual = { \"NA\": 0, \"Po\": 1, \"Fa\": 2, \"TA\": 3, \"Gd\": 4, \"Ex\": 5}\n",
    "\n",
    "# Not all of them but only a select few columns I want to convert\n",
    "qual_list = ['Exter Qual',\n",
    "             'Exter Cond',\n",
    "             'Bsmt Qual',\n",
    "             'Kitchen Qual',\n",
    "             'Fireplace Qu',\n",
    "             'Garage Qual'\n",
    "            ]\n",
    "# Apply to dataframes\n",
    "df_train = feature_ordinal_custom(ordered_rating_qual,qual_list,df_train)\n",
    "df_test = feature_ordinal_custom(ordered_rating_qual,qual_list,df_test)"
   ]
  },
  {
   "cell_type": "markdown",
   "metadata": {},
   "source": [
    "### 3.2 Dummies"
   ]
  },
  {
   "cell_type": "code",
   "execution_count": 30,
   "metadata": {},
   "outputs": [],
   "source": [
    "'''\n",
    "Input: Dataframe and list of columns to apply dummy\n",
    "Output: \n",
    "'''\n",
    "def feature_make_dummies(df,dummy_list):\n",
    "    # Create dummies on dataset\n",
    "    for col in dummy_list:\n",
    "        dummy = pd.get_dummies(df[col], columns=col, prefix=col)\n",
    "        df = pd.concat([df, dummy], axis=1)\n",
    "    return df\n"
   ]
  },
  {
   "cell_type": "code",
   "execution_count": 31,
   "metadata": {},
   "outputs": [],
   "source": [
    "#Setup dummies on short list, doing all will not be helpful\n",
    "dummy_list = ['MS Zoning',\n",
    "              'MS SubClass',\n",
    "              'Neighborhood',\n",
    "              'Bldg Type',\n",
    "              'House Style',\n",
    "              'Roof Style',\n",
    "              'Exterior 1st',\n",
    "              'Exterior 2nd',\n",
    "              'Foundation',\n",
    "              'Functional',\n",
    "              'Garage Type',\n",
    "              'Garage Finish',\n",
    "              'Paved Drive']"
   ]
  },
  {
   "cell_type": "code",
   "execution_count": 32,
   "metadata": {},
   "outputs": [],
   "source": [
    "df_train = feature_make_dummies(df_train,dummy_list)\n",
    "df_test = feature_make_dummies(df_test,dummy_list)"
   ]
  },
  {
   "cell_type": "code",
   "execution_count": 33,
   "metadata": {},
   "outputs": [
    {
     "name": "stdout",
     "output_type": "stream",
     "text": [
      "(2045, 208)\n",
      "(879, 201)\n"
     ]
    }
   ],
   "source": [
    "print(df_train.shape)\n",
    "print(df_test.shape)"
   ]
  },
  {
   "cell_type": "code",
   "execution_count": null,
   "metadata": {},
   "outputs": [],
   "source": [
    "# We know that doing get dummies on the test set will short change us on the columns so lets prep for that\n",
    "# DNR AGAIN\n",
    "for col in dummy_list:\n",
    "    df_test[col] = df_test[col].fillna(\"NA\")\n",
    "    test_values = sorted(list(df_test[col].unique()))\n",
    "    train_values = sorted(list(df_train[col].unique()))\n",
    "    categories = set(train_values + test_values)\n",
    "    df_test[col] = pd.Categorical(df_test[col], categories=categories)\n",
    "    df_train[col] = pd.Categorical(df_train[col], categories=categories)"
   ]
  },
  {
   "cell_type": "markdown",
   "metadata": {},
   "source": [
    "## 4.0 Feature Engineering"
   ]
  },
  {
   "cell_type": "markdown",
   "metadata": {},
   "source": [
    "### 4.1 Age of Remodel"
   ]
  },
  {
   "cell_type": "code",
   "execution_count": null,
   "metadata": {},
   "outputs": [],
   "source": [
    "df_train['Age of Remodel'] = df_train['Yr Sold']-df_train['Year Remod/Add']"
   ]
  },
  {
   "cell_type": "markdown",
   "metadata": {},
   "source": [
    "### 4.2 Polynomial Features"
   ]
  },
  {
   "cell_type": "code",
   "execution_count": null,
   "metadata": {},
   "outputs": [],
   "source": []
  }
 ],
 "metadata": {
  "kernelspec": {
   "display_name": "Python 3",
   "language": "python",
   "name": "python3"
  },
  "language_info": {
   "codemirror_mode": {
    "name": "ipython",
    "version": 3
   },
   "file_extension": ".py",
   "mimetype": "text/x-python",
   "name": "python",
   "nbconvert_exporter": "python",
   "pygments_lexer": "ipython3",
   "version": "3.6.5"
  }
 },
 "nbformat": 4,
 "nbformat_minor": 2
}
