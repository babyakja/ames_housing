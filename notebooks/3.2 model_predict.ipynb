{
 "cells": [
  {
   "cell_type": "code",
   "execution_count": 74,
   "metadata": {},
   "outputs": [],
   "source": [
    "#libraries\n",
    "import numpy as np\n",
    "import pandas as pd\n",
    "import seaborn as sns\n",
    "import matplotlib.pyplot as plt\n",
    "%matplotlib inline\n",
    "\n",
    "\n",
    "from joblib import dump, load"
   ]
  },
  {
   "cell_type": "markdown",
   "metadata": {},
   "source": [
    "## 0.0 Get Data"
   ]
  },
  {
   "cell_type": "code",
   "execution_count": 108,
   "metadata": {},
   "outputs": [],
   "source": [
    "df_test = pd.read_csv('../data/processed/test_scaled.csv',index_col=False)"
   ]
  },
  {
   "cell_type": "code",
   "execution_count": 109,
   "metadata": {},
   "outputs": [
    {
     "data": {
      "text/html": [
       "<div>\n",
       "<style scoped>\n",
       "    .dataframe tbody tr th:only-of-type {\n",
       "        vertical-align: middle;\n",
       "    }\n",
       "\n",
       "    .dataframe tbody tr th {\n",
       "        vertical-align: top;\n",
       "    }\n",
       "\n",
       "    .dataframe thead th {\n",
       "        text-align: right;\n",
       "    }\n",
       "</style>\n",
       "<table border=\"1\" class=\"dataframe\">\n",
       "  <thead>\n",
       "    <tr style=\"text-align: right;\">\n",
       "      <th></th>\n",
       "      <th>Unnamed: 0</th>\n",
       "      <th>Unnamed: 0.1</th>\n",
       "      <th>Id</th>\n",
       "      <th>PID</th>\n",
       "      <th>MS SubClass</th>\n",
       "      <th>MS Zoning</th>\n",
       "      <th>Lot Frontage</th>\n",
       "      <th>Lot Area</th>\n",
       "      <th>Street</th>\n",
       "      <th>Alley</th>\n",
       "      <th>...</th>\n",
       "      <th>Garage Finish_Unf</th>\n",
       "      <th>Garage Finish_None</th>\n",
       "      <th>Garage Finish_Fin</th>\n",
       "      <th>Garage Finish_RFn</th>\n",
       "      <th>Paved Drive_N</th>\n",
       "      <th>Paved Drive_P</th>\n",
       "      <th>Paved Drive_Y</th>\n",
       "      <th>Age of Remodel</th>\n",
       "      <th>Total Bath</th>\n",
       "      <th>Sum Qual</th>\n",
       "    </tr>\n",
       "  </thead>\n",
       "  <tbody>\n",
       "    <tr>\n",
       "      <th>0</th>\n",
       "      <td>0</td>\n",
       "      <td>-1.730081</td>\n",
       "      <td>2658</td>\n",
       "      <td>902301120</td>\n",
       "      <td>190</td>\n",
       "      <td>RM</td>\n",
       "      <td>-0.029251</td>\n",
       "      <td>-0.119395</td>\n",
       "      <td>Pave</td>\n",
       "      <td>Grvl</td>\n",
       "      <td>...</td>\n",
       "      <td>1.140635</td>\n",
       "      <td>-0.232286</td>\n",
       "      <td>-0.576037</td>\n",
       "      <td>-0.600567</td>\n",
       "      <td>-0.282582</td>\n",
       "      <td>-0.163918</td>\n",
       "      <td>0.333544</td>\n",
       "      <td>1.593181</td>\n",
       "      <td>-0.259157</td>\n",
       "      <td>-0.992884</td>\n",
       "    </tr>\n",
       "    <tr>\n",
       "      <th>1</th>\n",
       "      <td>1</td>\n",
       "      <td>-1.726140</td>\n",
       "      <td>2718</td>\n",
       "      <td>905108090</td>\n",
       "      <td>90</td>\n",
       "      <td>RL</td>\n",
       "      <td>-0.001151</td>\n",
       "      <td>-0.067611</td>\n",
       "      <td>Pave</td>\n",
       "      <td>NaN</td>\n",
       "      <td>...</td>\n",
       "      <td>-0.876705</td>\n",
       "      <td>-0.232286</td>\n",
       "      <td>1.736001</td>\n",
       "      <td>-0.600567</td>\n",
       "      <td>-0.282582</td>\n",
       "      <td>-0.163918</td>\n",
       "      <td>0.333544</td>\n",
       "      <td>0.274485</td>\n",
       "      <td>-0.259157</td>\n",
       "      <td>-0.992884</td>\n",
       "    </tr>\n",
       "    <tr>\n",
       "      <th>2</th>\n",
       "      <td>2</td>\n",
       "      <td>-1.722200</td>\n",
       "      <td>2414</td>\n",
       "      <td>528218130</td>\n",
       "      <td>60</td>\n",
       "      <td>RL</td>\n",
       "      <td>-0.544416</td>\n",
       "      <td>0.673505</td>\n",
       "      <td>Pave</td>\n",
       "      <td>NaN</td>\n",
       "      <td>...</td>\n",
       "      <td>-0.876705</td>\n",
       "      <td>-0.232286</td>\n",
       "      <td>-0.576037</td>\n",
       "      <td>1.665092</td>\n",
       "      <td>-0.282582</td>\n",
       "      <td>-0.163918</td>\n",
       "      <td>0.333544</td>\n",
       "      <td>-1.141892</td>\n",
       "      <td>1.597900</td>\n",
       "      <td>1.150067</td>\n",
       "    </tr>\n",
       "    <tr>\n",
       "      <th>3</th>\n",
       "      <td>3</td>\n",
       "      <td>-1.718259</td>\n",
       "      <td>1989</td>\n",
       "      <td>902207150</td>\n",
       "      <td>30</td>\n",
       "      <td>RM</td>\n",
       "      <td>-0.450749</td>\n",
       "      <td>-0.181337</td>\n",
       "      <td>Pave</td>\n",
       "      <td>NaN</td>\n",
       "      <td>...</td>\n",
       "      <td>1.140635</td>\n",
       "      <td>-0.232286</td>\n",
       "      <td>-0.576037</td>\n",
       "      <td>-0.600567</td>\n",
       "      <td>3.538796</td>\n",
       "      <td>-0.163918</td>\n",
       "      <td>-2.998105</td>\n",
       "      <td>-1.093051</td>\n",
       "      <td>-1.497195</td>\n",
       "      <td>-0.992884</td>\n",
       "    </tr>\n",
       "    <tr>\n",
       "      <th>4</th>\n",
       "      <td>4</td>\n",
       "      <td>-1.714318</td>\n",
       "      <td>625</td>\n",
       "      <td>535105100</td>\n",
       "      <td>20</td>\n",
       "      <td>RL</td>\n",
       "      <td>-0.001151</td>\n",
       "      <td>-0.083744</td>\n",
       "      <td>Pave</td>\n",
       "      <td>NaN</td>\n",
       "      <td>...</td>\n",
       "      <td>-0.876705</td>\n",
       "      <td>-0.232286</td>\n",
       "      <td>-0.576037</td>\n",
       "      <td>1.665092</td>\n",
       "      <td>-0.282582</td>\n",
       "      <td>-0.163918</td>\n",
       "      <td>0.333544</td>\n",
       "      <td>1.104775</td>\n",
       "      <td>0.359862</td>\n",
       "      <td>0.924493</td>\n",
       "    </tr>\n",
       "  </tbody>\n",
       "</table>\n",
       "<p>5 rows × 217 columns</p>\n",
       "</div>"
      ],
      "text/plain": [
       "   Unnamed: 0  Unnamed: 0.1    Id        PID  MS SubClass MS Zoning  \\\n",
       "0           0     -1.730081  2658  902301120          190        RM   \n",
       "1           1     -1.726140  2718  905108090           90        RL   \n",
       "2           2     -1.722200  2414  528218130           60        RL   \n",
       "3           3     -1.718259  1989  902207150           30        RM   \n",
       "4           4     -1.714318   625  535105100           20        RL   \n",
       "\n",
       "   Lot Frontage  Lot Area Street Alley    ...    Garage Finish_Unf  \\\n",
       "0     -0.029251 -0.119395   Pave  Grvl    ...             1.140635   \n",
       "1     -0.001151 -0.067611   Pave   NaN    ...            -0.876705   \n",
       "2     -0.544416  0.673505   Pave   NaN    ...            -0.876705   \n",
       "3     -0.450749 -0.181337   Pave   NaN    ...             1.140635   \n",
       "4     -0.001151 -0.083744   Pave   NaN    ...            -0.876705   \n",
       "\n",
       "  Garage Finish_None Garage Finish_Fin Garage Finish_RFn Paved Drive_N  \\\n",
       "0          -0.232286         -0.576037         -0.600567     -0.282582   \n",
       "1          -0.232286          1.736001         -0.600567     -0.282582   \n",
       "2          -0.232286         -0.576037          1.665092     -0.282582   \n",
       "3          -0.232286         -0.576037         -0.600567      3.538796   \n",
       "4          -0.232286         -0.576037          1.665092     -0.282582   \n",
       "\n",
       "  Paved Drive_P Paved Drive_Y Age of Remodel Total Bath  Sum Qual  \n",
       "0     -0.163918      0.333544       1.593181  -0.259157 -0.992884  \n",
       "1     -0.163918      0.333544       0.274485  -0.259157 -0.992884  \n",
       "2     -0.163918      0.333544      -1.141892   1.597900  1.150067  \n",
       "3     -0.163918     -2.998105      -1.093051  -1.497195 -0.992884  \n",
       "4     -0.163918      0.333544       1.104775   0.359862  0.924493  \n",
       "\n",
       "[5 rows x 217 columns]"
      ]
     },
     "execution_count": 109,
     "metadata": {},
     "output_type": "execute_result"
    }
   ],
   "source": [
    "df_test.head()"
   ]
  },
  {
   "cell_type": "markdown",
   "metadata": {},
   "source": [
    "### 0.1 Prep data to fit model"
   ]
  },
  {
   "cell_type": "code",
   "execution_count": 110,
   "metadata": {},
   "outputs": [],
   "source": [
    "num_col = df_test._get_numeric_data().drop(['Id', 'PID', 'Unnamed: 0','Unnamed: 0.1'], axis=1).columns.tolist()"
   ]
  },
  {
   "cell_type": "code",
   "execution_count": 111,
   "metadata": {},
   "outputs": [
    {
     "data": {
      "text/plain": [
       "176"
      ]
     },
     "execution_count": 111,
     "metadata": {},
     "output_type": "execute_result"
    }
   ],
   "source": [
    "num_col.remove('Garage Cars')\n",
    "len(num_col)"
   ]
  },
  {
   "cell_type": "code",
   "execution_count": 112,
   "metadata": {},
   "outputs": [],
   "source": [
    "num_col.remove('Garage Area')"
   ]
  },
  {
   "cell_type": "markdown",
   "metadata": {},
   "source": [
    "## 1.0 Predictions"
   ]
  },
  {
   "cell_type": "code",
   "execution_count": 113,
   "metadata": {},
   "outputs": [],
   "source": [
    "# Load saved model\n",
    "regr = load('../models/elasticnet011519_0_area2.sav')"
   ]
  },
  {
   "cell_type": "code",
   "execution_count": 114,
   "metadata": {},
   "outputs": [],
   "source": [
    "predictions = regr.predict(df_test[num_col])"
   ]
  },
  {
   "cell_type": "code",
   "execution_count": 115,
   "metadata": {},
   "outputs": [],
   "source": [
    "predictions_log = np.expm1(predictions)"
   ]
  },
  {
   "cell_type": "code",
   "execution_count": 116,
   "metadata": {},
   "outputs": [
    {
     "name": "stderr",
     "output_type": "stream",
     "text": [
      "/Users/macbookpro/anaconda3/lib/python3.6/site-packages/scipy/stats/stats.py:1713: FutureWarning: Using a non-tuple sequence for multidimensional indexing is deprecated; use `arr[tuple(seq)]` instead of `arr[seq]`. In the future this will be interpreted as an array index, `arr[np.array(seq)]`, which will result either in an error or a different result.\n",
      "  return np.add.reduce(sorted[indexer] * weights, axis=axis) / sumval\n",
      "/Users/macbookpro/anaconda3/lib/python3.6/site-packages/matplotlib/axes/_axes.py:6499: MatplotlibDeprecationWarning: \n",
      "The 'normed' kwarg was deprecated in Matplotlib 2.1 and will be removed in 3.1. Use 'density' instead.\n",
      "  alternative=\"'density'\", removal=\"3.1\")\n"
     ]
    },
    {
     "data": {
      "image/png": "[encoded data removed]",
      "text/plain": [
       "<Figure size 432x288 with 1 Axes>"
      ]
     },
     "metadata": {
      "needs_background": "light"
     },
     "output_type": "display_data"
    }
   ],
   "source": [
    "sns.distplot(predictions_log);"
   ]
  },
  {
   "cell_type": "code",
   "execution_count": 117,
   "metadata": {},
   "outputs": [],
   "source": [
    "regr2 = load('../models/ENGS011519_area2.sav')"
   ]
  },
  {
   "cell_type": "code",
   "execution_count": 118,
   "metadata": {},
   "outputs": [
    {
     "name": "stderr",
     "output_type": "stream",
     "text": [
      "/Users/macbookpro/anaconda3/lib/python3.6/site-packages/scipy/stats/stats.py:1713: FutureWarning: Using a non-tuple sequence for multidimensional indexing is deprecated; use `arr[tuple(seq)]` instead of `arr[seq]`. In the future this will be interpreted as an array index, `arr[np.array(seq)]`, which will result either in an error or a different result.\n",
      "  return np.add.reduce(sorted[indexer] * weights, axis=axis) / sumval\n",
      "/Users/macbookpro/anaconda3/lib/python3.6/site-packages/matplotlib/axes/_axes.py:6499: MatplotlibDeprecationWarning: \n",
      "The 'normed' kwarg was deprecated in Matplotlib 2.1 and will be removed in 3.1. Use 'density' instead.\n",
      "  alternative=\"'density'\", removal=\"3.1\")\n"
     ]
    },
    {
     "data": {
      "image/png": "[encoded data removed]",
      "text/plain": [
       "<Figure size 432x288 with 1 Axes>"
      ]
     },
     "metadata": {
      "needs_background": "light"
     },
     "output_type": "display_data"
    }
   ],
   "source": [
    "predictions2 = regr2.predict(df_test[num_col])\n",
    "predictions_log2 = np.expm1(predictions2)\n",
    "sns.distplot(predictions_log2);"
   ]
  },
  {
   "cell_type": "markdown",
   "metadata": {},
   "source": [
    "## 2.0 Submissions"
   ]
  },
  {
   "cell_type": "code",
   "execution_count": 123,
   "metadata": {},
   "outputs": [],
   "source": [
    "df_submission = pd.DataFrame()"
   ]
  },
  {
   "cell_type": "code",
   "execution_count": 124,
   "metadata": {},
   "outputs": [],
   "source": [
    "df_submission['SalePrice'] = predictions_log"
   ]
  },
  {
   "cell_type": "code",
   "execution_count": 125,
   "metadata": {},
   "outputs": [],
   "source": [
    "df_submission['Id'] = df_test['Id']"
   ]
  },
  {
   "cell_type": "code",
   "execution_count": 126,
   "metadata": {},
   "outputs": [],
   "source": [
    "# Create CSV for Kaggle submission\n",
    "df_submission.to_csv(\"../data/external/submission_ENCV_011719_area.csv\", index=False)"
   ]
  },
  {
   "cell_type": "code",
   "execution_count": null,
   "metadata": {},
   "outputs": [],
   "source": []
  }
 ],
 "metadata": {
  "kernelspec": {
   "display_name": "Python 3",
   "language": "python",
   "name": "python3"
  },
  "language_info": {
   "codemirror_mode": {
    "name": "ipython",
    "version": 3
   },
   "file_extension": ".py",
   "mimetype": "text/x-python",
   "name": "python",
   "nbconvert_exporter": "python",
   "pygments_lexer": "ipython3",
   "version": "3.6.5"
  }
 },
 "nbformat": 4,
 "nbformat_minor": 2
}
